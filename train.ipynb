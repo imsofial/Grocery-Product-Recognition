{
 "cells": [
  {
   "cell_type": "code",
   "execution_count": 2,
   "id": "3e87de84",
   "metadata": {},
   "outputs": [],
   "source": [
    "import os\n",
    "from geffnet import create_model\n",
    "from torchvision import transforms, datasets\n",
    "from PIL import Image\n",
    "from torch.utils.data import Dataset, DataLoader\n",
    "import torch\n",
    "import torch.nn as nn\n",
    "import torch.optim as optim\n",
    "from tqdm import tqdm"
   ]
  },
  {
   "cell_type": "code",
   "execution_count": 3,
   "id": "4fe01e0b",
   "metadata": {},
   "outputs": [],
   "source": [
    "DATA_DIRECTORY=\"dataset_prepared\"\n",
    "train_directory = DATA_DIRECTORY + \"/train\"\n",
    "test_directory = DATA_DIRECTORY + \"/test\"\n",
    "val_directory = DATA_DIRECTORY + \"/val\""
   ]
  },
  {
   "cell_type": "code",
   "execution_count": 4,
   "id": "5b2c8b0b",
   "metadata": {},
   "outputs": [],
   "source": [
    "data_transforms = {\n",
    "        'train': transforms.Compose([\n",
    "            transforms.RandomRotation(30),\n",
    "            transforms.RandomResizedCrop(224),\n",
    "            transforms.RandomHorizontalFlip(),\n",
    "            transforms.ToTensor(),\n",
    "            transforms.Normalize([0.485, 0.456, 0.406], \n",
    "                                [0.229, 0.224, 0.225])\n",
    "        ]),\n",
    "        'val': transforms.Compose([\n",
    "            transforms.Resize(256),\n",
    "            transforms.CenterCrop(224),\n",
    "            transforms.ToTensor(),\n",
    "            transforms.Normalize([0.485, 0.456, 0.406], \n",
    "                                [0.229, 0.224, 0.225])\n",
    "        ])\n",
    "    }\n"
   ]
  },
  {
   "cell_type": "code",
   "execution_count": 5,
   "id": "480f30ec",
   "metadata": {},
   "outputs": [],
   "source": [
    "class FruitConditionDataset(Dataset):\n",
    "    def __init__(self, root_dir, transform=None, label2id=None):\n",
    "        self.root_dir = root_dir\n",
    "        self.transform = transform\n",
    "        self.samples = []\n",
    "\n",
    "        for fruit in os.listdir(root_dir):\n",
    "            fruit_path = os.path.join(root_dir, fruit)\n",
    "            if not os.path.isdir(fruit_path):\n",
    "                continue\n",
    "            for condition in os.listdir(fruit_path):\n",
    "                condition_path = os.path.join(fruit_path, condition)\n",
    "                if not os.path.isdir(condition_path):\n",
    "                    continue\n",
    "                label_name = f\"{fruit}/{condition}\"\n",
    "                label_id = label2id[label_name]\n",
    "                for img_name in os.listdir(condition_path):\n",
    "                    if img_name.lower().endswith((\".jpg\", \".png\", \".jpeg\")):\n",
    "                        img_path = os.path.join(condition_path, img_name)\n",
    "                        self.samples.append((img_path, label_id))\n",
    "\n",
    "    def __len__(self):\n",
    "        return len(self.samples)\n",
    "\n",
    "    def __getitem__(self, idx):\n",
    "        img_path, label = self.samples[idx]\n",
    "        image = Image.open(img_path).convert(\"RGB\")\n",
    "        if self.transform:\n",
    "            image = self.transform(image)\n",
    "        return image, label"
   ]
  },
  {
   "cell_type": "code",
   "execution_count": 6,
   "id": "6e1d5117",
   "metadata": {},
   "outputs": [
    {
     "name": "stdout",
     "output_type": "stream",
     "text": [
      "10\n"
     ]
    }
   ],
   "source": [
    "import os\n",
    "data_root = \"dataset_prepared/test\"\n",
    "\n",
    "label2id = {}\n",
    "counter = 0\n",
    "\n",
    "for fruit in os.listdir(data_root):\n",
    "    fruit_path = os.path.join(data_root, fruit)\n",
    "    if not os.path.isdir(fruit_path):\n",
    "        continue\n",
    "    for condition in os.listdir(fruit_path):\n",
    "        label = f\"{fruit}/{condition}\"\n",
    "        label2id[label] = counter\n",
    "        counter += 1\n",
    "\n",
    "print(len(label2id))\n"
   ]
  },
  {
   "cell_type": "code",
   "execution_count": 7,
   "id": "12346c35",
   "metadata": {},
   "outputs": [],
   "source": [
    "from torch.utils.data import DataLoader\n",
    "from torchvision import transforms\n",
    "\n",
    "train_dataset = FruitConditionDataset(\n",
    "    root_dir=\"dataset_prepared/train\",\n",
    "    transform=data_transforms['train'],\n",
    "    label2id=label2id\n",
    ")\n",
    "\n",
    "val_dataset = FruitConditionDataset(\n",
    "    root_dir=\"dataset_prepared/val\",\n",
    "    transform=data_transforms['val'],\n",
    "    label2id=label2id\n",
    ")"
   ]
  },
  {
   "cell_type": "code",
   "execution_count": 8,
   "id": "36a1a306",
   "metadata": {},
   "outputs": [],
   "source": [
    "batch_size = 256 \n",
    "\n",
    "train_loader = DataLoader(train_dataset, batch_size, shuffle=True, num_workers=2)\n",
    "val_loader = DataLoader(val_dataset, batch_size, shuffle=False, num_workers=2)"
   ]
  },
  {
   "cell_type": "code",
   "execution_count": null,
   "id": "9f87b440",
   "metadata": {},
   "outputs": [
    {
     "name": "stderr",
     "output_type": "stream",
     "text": [
      "Epoch 1/10 - Training:   0%|          | 0/36 [00:00<?, ?it/s]"
     ]
    }
   ],
   "source": [
    "device = torch.device(\"cuda\" if torch.cuda.is_available() else \"cpu\")\n",
    "num_classes = 10\n",
    "save_path = 'models/efficientnet_fruits.pth'  # where we store model \n",
    "\n",
    "def get_model(num_classes, pretrained=True):\n",
    "    \"\"\"\n",
    "    Creates EfficientNet B3 and changes classifier to num_classes\n",
    "    \"\"\"\n",
    "    model = create_model('efficientnet_b3', pretrained=pretrained)\n",
    "    in_features = model.classifier.in_features\n",
    "    model.classifier = nn.Linear(in_features, num_classes)\n",
    "    return model.to(device)\n",
    "\n",
    "def train_model(model, train_loader, val_loader, num_epochs=5, lr=1e-4):\n",
    "    criterion = nn.CrossEntropyLoss()\n",
    "    optimizer = optim.Adam(model.parameters(), lr=lr)\n",
    "    scheduler = optim.lr_scheduler.StepLR(optimizer, step_size=5, gamma=0.5)\n",
    "    \n",
    "    best_acc = 0.0\n",
    "    \n",
    "    for epoch in range(num_epochs):\n",
    "        model.train()\n",
    "        running_loss = 0.0\n",
    "        correct, total = 0, 0\n",
    "        \n",
    "        for images, labels in tqdm(train_loader, desc=f\"Epoch {epoch+1}/{num_epochs} - Training\"):\n",
    "            images, labels = images.to(device), labels.to(device)\n",
    "            optimizer.zero_grad()\n",
    "            outputs = model(images)\n",
    "            loss = criterion(outputs, labels)\n",
    "            loss.backward()\n",
    "            optimizer.step()\n",
    "            \n",
    "            running_loss += loss.item()\n",
    "            _, predicted = outputs.max(1)\n",
    "            total += labels.size(0)\n",
    "            correct += predicted.eq(labels).sum().item()\n",
    "        \n",
    "        train_acc = 100 * correct / total\n",
    "        \n",
    "        # --- Validation ---\n",
    "        model.eval()\n",
    "        val_correct, val_total = 0, 0\n",
    "        val_loss = 0.0\n",
    "        with torch.no_grad():\n",
    "            for images, labels in val_loader:\n",
    "                images, labels = images.to(device), labels.to(device)\n",
    "                outputs = model(images)\n",
    "                loss = criterion(outputs, labels)\n",
    "                val_loss += loss.item()\n",
    "                _, predicted = outputs.max(1)\n",
    "                val_total += labels.size(0)\n",
    "                val_correct += predicted.eq(labels).sum().item()\n",
    "        \n",
    "        val_acc = 100 * val_correct / val_total\n",
    "        print(f\"Epoch [{epoch+1}/{num_epochs}] | \"\n",
    "              f\"Train Loss: {running_loss/len(train_loader):.4f} | Train Acc: {train_acc:.2f}% | \"\n",
    "              f\"Val Loss: {val_loss/len(val_loader):.4f} | Val Acc: {val_acc:.2f}%\")\n",
    "        \n",
    "        # Saves the best model\n",
    "        if val_acc > best_acc:\n",
    "            best_acc = val_acc\n",
    "            torch.save(model.state_dict(), save_path)\n",
    "            print(\"Model saved:\", save_path)\n",
    "        \n",
    "        scheduler.step()\n",
    "    \n",
    "    print(\"Train loop is finished. Best Accuracy:\", best_acc)\n",
    "    return model\n",
    "\n",
    "model = get_model(num_classes=num_classes, pretrained=True)\n",
    "trained_model = train_model(model, train_loader, val_loader, num_epochs=10, lr=1e-4)\n"
   ]
  }
 ],
 "metadata": {
  "kernelspec": {
   "display_name": "Python 3",
   "language": "python",
   "name": "python3"
  },
  "language_info": {
   "codemirror_mode": {
    "name": "ipython",
    "version": 3
   },
   "file_extension": ".py",
   "mimetype": "text/x-python",
   "name": "python",
   "nbconvert_exporter": "python",
   "pygments_lexer": "ipython3",
   "version": "3.12.6"
  }
 },
 "nbformat": 4,
 "nbformat_minor": 5
}
